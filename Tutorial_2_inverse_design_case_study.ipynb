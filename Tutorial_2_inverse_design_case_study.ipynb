{
 "cells": [
  {
   "cell_type": "markdown",
   "id": "582b3e45",
   "metadata": {},
   "source": [
    "## Download entries to build general and transfer datasets\n",
    "**!!! First run the Jupyter backend setup** \n",
    "\n",
    "https://github.com/xiaohang007/SLICES?tab=readme-ov-file#jupyter-backend-setup\n",
    "\n",
    "**Set num_sites=(1,5) to speed up the test run**\n",
    "\n",
    "**Set num_sites=(1,10) to reproduce the results reported in the manuscript**"
   ]
  },
  {
   "cell_type": "code",
   "execution_count": null,
   "id": "e0b72c84",
   "metadata": {
    "code_folding": [],
    "scrolled": true
   },
   "outputs": [],
   "source": [
    "import json\n",
    "from invcryrep.utils import temporaryWorkingDirectory,search_materials,exclude_elements_json,splitRun,show_progress,collect_json,collect_csv\n",
    "# Download entries to build general and transfer datasets\n",
    "with temporaryWorkingDirectory(\"./HTS/0_get_json_mp_api\"):\n",
    "    dict_json=search_materials(apikeyPath='/crystal/APIKEY.ini',formation_energy=(-10000,0),num_sites=(1,5),fields=[\"material_id\"])\n",
    "    exclude_elements=['Fr' , 'Ra','Ac','Th','Pa','U','Np',\\\n",
    "              'Pu','Am','Cm','Bk','Cf','Es','Fm','Md','No','Lr','Rf',\\\n",
    "              'Db','Sg','Bh','Hs','Mt','Ds','Rg','Cn','Nh','Fl','Mc',\\\n",
    "              'Lv','Ts','Og']\n",
    "    flitered_json=exclude_elements_json(dict_json,exclude_elements)\n",
    "    with open('prior_model_dataset.json', 'w') as f:\n",
    "        json.dump(flitered_json, f)\n",
    "    print(\"prior_model_dataset.json generated\")\n",
    "    dict_json2=search_materials(apikeyPath='/crystal/APIKEY.ini',band_gap=(0.10, 0.55),num_sites=(1,5),formation_energy=(-10000,0),is_gap_direct=True,fields=[\"material_id\"])\n",
    "    flitered_json2=exclude_elements_json(dict_json2,exclude_elements)\n",
    "    with open('transfer_learning_dataset.json', 'w') as f:\n",
    "        json.dump(flitered_json2, f)\n",
    "    print(\"transfer_learning_dataset.json generated\")\n",
    "# Rule out crystals with low-dimensional units (e.g. molecular crystals or layered crystals)\n",
    "with temporaryWorkingDirectory(\"./HTS/0_get_json_mp_api/2_filter_prior_3d\"):\n",
    "    splitRun(filename='../prior_model_dataset.json',threads=8,skip_header=False)\n",
    "    show_progress()\n",
    "    collect_json(output=\"../prior_model_dataset_filtered.json\", glob_target=\"./**/output.json\",cleanup=True)\n",
    "with temporaryWorkingDirectory(\"./HTS/0_get_json_mp_api/3_filter_transfer_3d\"):\n",
    "    splitRun(filename='../transfer_learning_dataset.json',threads=8,skip_header=False)\n",
    "    show_progress()\n",
    "    collect_json(output=\"../transfer_model_dataset_filtered.json\", glob_target=\"./**/output.json\",cleanup=True)"
   ]
  },
  {
   "cell_type": "markdown",
   "id": "221456e0",
   "metadata": {},
   "source": [
    "# Convert crystal structures in datasets to SLICES strings and conduct data augmentation"
   ]
  },
  {
   "cell_type": "code",
   "execution_count": null,
   "id": "691bef88",
   "metadata": {},
   "outputs": [],
   "source": [
    "from invcryrep.utils import temporaryWorkingDirectory,splitRun,show_progress,collect_json,collect_csv\n",
    "with temporaryWorkingDirectory(\"./HTS/1_augmentation/prior\"):\n",
    "    splitRun(filename='../../0_get_json_mp_api/prior_model_dataset_filtered.json',threads=16,skip_header=False)\n",
    "    show_progress()\n",
    "    collect_csv(output=\"../prior_aug.sli\", glob_target=\"./**/result.sli\",header=\"\",cleanup=True)\n",
    "with temporaryWorkingDirectory(\"./HTS/1_augmentation/transfer\"):\n",
    "    splitRun(filename='../../0_get_json_mp_api/transfer_model_dataset_filtered.json',threads=16,skip_header=False)\n",
    "    show_progress()\n",
    "    collect_csv(output=\"../transfer_aug.sli\", glob_target=\"./**/result.sli\",header=\"\",cleanup=True)"
   ]
  },
  {
   "cell_type": "markdown",
   "id": "1d8997fc",
   "metadata": {},
   "source": [
    "# Train_sample\n",
    "## Train general RNN and specialized RNN\n",
    "**Set --epochs 3 to speed up the test run.**\n",
    "\n",
    "**To accelerate the training process, consider adjusting the batch_size appropriately.**\n",
    "\n",
    "**e.g., --batch_size 200 for 4GB GPU memory, --batch_size 1200 for 24GB GPU memory**"
   ]
  },
  {
   "cell_type": "code",
   "execution_count": null,
   "id": "38b5295e",
   "metadata": {
    "scrolled": true
   },
   "outputs": [],
   "source": [
    "from invcryrep.utils import temporaryWorkingDirectory\n",
    "import os\n",
    "with temporaryWorkingDirectory(\"./HTS/2_train_sample\"):\n",
    "    os.system(\"python data_structs.py ../1_augmentation/prior_aug.sli\")\n",
    "    os.system(\"python train_prior.py --batch_size 1200 --epochs 3\")\n",
    "    os.system(\"python transfer_userinpt.py  --task train_model --voc Voc_prior \\\n",
    "    --smi ../1_augmentation/transfer_aug.sli --save_process_smi process.csv \\\n",
    "    --prior_model Prior_local.ckpt --tf_model transfer_test.ckpt --batch_size 1200 --epochs 3\")"
   ]
  },
  {
   "cell_type": "markdown",
   "id": "67ff1c75",
   "metadata": {},
   "source": [
    "## Generate SLICES\n",
    "**Generating 16000 SLICES for the test run to speed up the process**\n",
    "\n",
    "**Generating 10,000,000 SLICES to reproduce the results reported in the manuscript**"
   ]
  },
  {
   "cell_type": "code",
   "execution_count": null,
   "id": "44c5226a",
   "metadata": {
    "scrolled": true
   },
   "outputs": [],
   "source": [
    "from invcryrep.utils import temporaryWorkingDirectory,splitRun_sample,show_progress,collect_csv\n",
    "with temporaryWorkingDirectory(\"./HTS/2_train_sample\"):    \n",
    "    splitRun_sample(threads=8,sample_size=16000) # generate 16000 SLICES in total with 8 CPU threads \n",
    "    show_progress()\n",
    "    collect_csv(output=\"sampled.sli\", glob_target=\"job_*/100x.sli\",header=\"\",cleanup=True)"
   ]
  },
  {
   "cell_type": "markdown",
   "id": "e730a8ee",
   "metadata": {},
   "source": [
    "# Decode SLICES into Crystal Structures"
   ]
  },
  {
   "cell_type": "code",
   "execution_count": null,
   "id": "89d9fd23",
   "metadata": {
    "scrolled": true
   },
   "outputs": [],
   "source": [
    "from invcryrep.utils import temporaryWorkingDirectory,splitRun_csv,show_progress,collect_csv\n",
    "with temporaryWorkingDirectory(\"./HTS/3_inverse\"):\n",
    "    splitRun_csv(filename='../2_train_sample/sampled.sli',threads=16,skip_header=False)\n",
    "    show_progress()\n",
    "    collect_csv(output=\"results_3_inverse.csv\", glob_target=\"job_*/result.csv\",\\\n",
    "                header='SLICES,formula,energy_per_atom,POSCAR\\n',cleanup=True)"
   ]
  },
  {
   "cell_type": "markdown",
   "id": "476d9460",
   "metadata": {},
   "source": [
    "# Filter out crystals with compositions that exist in the Materials Project database"
   ]
  },
  {
   "cell_type": "code",
   "execution_count": null,
   "id": "26539915",
   "metadata": {},
   "outputs": [],
   "source": [
    "from invcryrep.utils import temporaryWorkingDirectory,splitRun_csv,show_progress,collect_csv\n",
    "with temporaryWorkingDirectory(\"./HTS/4_composition_filter\"):\n",
    "    splitRun_csv(filename='../3_inverse/results_3_inverse.csv',threads=16,skip_header=True)\n",
    "    show_progress()\n",
    "    collect_csv(output=\"results_4_composition_filter.csv\", glob_target=\"job_*/result.csv\",\\\n",
    "                header='SLICES,formula,energy_per_atom,POSCAR\\n',cleanup=True)"
   ]
  },
  {
   "cell_type": "markdown",
   "id": "3408073a",
   "metadata": {},
   "source": [
    "# Find high-symmetry structures in candidates with duplicate compositions"
   ]
  },
  {
   "cell_type": "code",
   "execution_count": null,
   "id": "89b3d9b5",
   "metadata": {},
   "outputs": [],
   "source": [
    "from invcryrep.utils import temporaryWorkingDirectory,splitRun_csv,show_progress,collect_csv\n",
    "import pandas as pd\n",
    "with temporaryWorkingDirectory(\"./HTS/5_symmetry_filter_refine\"):\n",
    "    splitRun_csv(filename='../4_composition_filter/results_4_composition_filter.csv',threads=16,skip_header=True)\n",
    "    show_progress()\n",
    "    collect_csv(output=\"results_5_symmetry_filter_refine.csv\", glob_target=\"job_*/result.csv\",\\\n",
    "                header='index,SLICES,POSCAR,formula,energy_per_atom,energy_per_atom_sym,space_group_number\\n',index=True,cleanup=True)\n",
    "    df = pd.read_csv(\"results_5_symmetry_filter_refine.csv\")\n",
    "    result = df.loc[df['space_group_number'] != 1].groupby(['formula','space_group_number'], group_keys=False).apply(lambda x: x[x.energy_per_atom_sym==x.energy_per_atom_sym.min()])\n",
    "    result.to_csv(\"results_5_symmetry_filter_refine_filtered.csv\", index=False)"
   ]
  },
  {
   "cell_type": "markdown",
   "id": "d85604b0",
   "metadata": {},
   "source": [
    "# Rule out crystals displaying minimum structural dissimilarity value < 0.75 (a dissimilarity threshold used in the Materials Project) with respect to the structures in the training dataset"
   ]
  },
  {
   "cell_type": "code",
   "execution_count": null,
   "id": "76e7f5ca",
   "metadata": {
    "scrolled": true
   },
   "outputs": [],
   "source": [
    "from invcryrep.utils import temporaryWorkingDirectory,splitRun,splitRun_csv,show_progress,collect_csv_filter\n",
    "import os,sys,glob\n",
    "from monty.serialization import loadfn, dumpfn\n",
    "# save structural fingerprints to json\n",
    "with temporaryWorkingDirectory(\"./HTS/6_structure_dissimilarity_filter/0_save_structure_fingerprint\"):\n",
    "    splitRun(filename='../../0_get_json_mp_api/prior_model_dataset_filtered.json',threads=16,skip_header=False)\n",
    "    show_progress()\n",
    "    training_fingerprint_list=[]\n",
    "    for i in glob.glob(\"job_*/training_fingerprint_list.json.gz\"):\n",
    "        training_fingerprint_list+=loadfn(i)\n",
    "    dumpfn(training_fingerprint_list, \"../training_fingerprint_list.json.gz\") # or .json.gz\n",
    "    print(\"../training_fingerprint_list.json.gz has been generated\")\n",
    "    for i in glob.glob(\"job_*\"):\n",
    "        os.system(\"rm -r \"+i)\n",
    "# Rule out crystals displaying minimum structural dissimilarity value < 0.75\n",
    "with temporaryWorkingDirectory(\"./HTS/6_structure_dissimilarity_filter\"):\n",
    "    splitRun_csv(filename='../5_symmetry_filter_refine/results_5_symmetry_filter_refine_filtered.csv',threads=16,skip_header=True)\n",
    "    show_progress()\n",
    "    # collect results\n",
    "    dissimilarity_limit=0.75\n",
    "    collect_csv_filter(output=\"results_6_structure_dissimilarity_filter.csv\", glob_target=\"job_*/result.csv\",\\\n",
    "                header='index,SLICES,POSCAR,formula,energy_per_atom,energy_per_atom_sym,space_group_number,dissimilarity\\n', \\\n",
    "                condition=lambda i: float(i.split(',')[-1]) >= dissimilarity_limit,cleanup=True)\n",
    "# the lambda expression is the screening criteria"
   ]
  },
  {
   "cell_type": "markdown",
   "id": "ce5bed1f",
   "metadata": {},
   "source": [
    "# Rule out candidates with IAP-predicted energy above hull >= 50 meV/atom\n",
    "\n",
    "**Set ehull_limit=0.5 to facilitate the test run.** To initiate a preliminary screening, set the ehull_limit to 0.5 eV/atom, which relaxes the selection criteria and yields some results. If we were to set it to a more stringent condition like 0.05 eV/atom, it's likely we wouldn't find any matches due to the limited number of SLICES (16,000) we're working with.\n",
    "\n",
    "**Set ehull_limit=0.05 to reproduce the results reported in the manuscript**"
   ]
  },
  {
   "cell_type": "code",
   "execution_count": null,
   "id": "7bf9467d",
   "metadata": {
    "scrolled": true
   },
   "outputs": [],
   "source": [
    "from invcryrep.utils import temporaryWorkingDirectory,splitRun_csv,show_progress,collect_csv_filter\n",
    "import os\n",
    "# download relevant entries for high-throughput energy above hull calculation\n",
    "with temporaryWorkingDirectory(\"./HTS/7_EAH_prescreen\"):\n",
    "    os.system(\"rm result.csv > /dev/null 2>&1\")\n",
    "    os.system(\"python ehull.py -i '../6_structure_dissimilarity_filter/results_6_structure_dissimilarity_filter_filtered.csv' -o result.csv\")\n",
    "    print(\"competitive_compositions.json.gz has been generated\")\n",
    "    # calculate structure_dissimilarity\n",
    "    splitRun_csv(filename='../6_structure_dissimilarity_filter/results_6_structure_dissimilarity_filter_filtered.csv',threads=16,skip_header=True)\n",
    "    show_progress()\n",
    "    # collect results\n",
    "    ehull_limit=0.5 # eV/atom\n",
    "    collect_csv_filter(output=\"results_7_EAH_prescreen.csv\", glob_target=\"job_*/result.csv\",\\\n",
    "                header='index,SLICES,POSCAR,formula,energy_per_atom,energy_per_atom_sym,space_group_number,dissimilarity,energy_above_hull_prescreen\\n', \\\n",
    "                condition=lambda i: float(i.split(',')[-1]) <= ehull_limit,cleanup=True)"
   ]
  },
  {
   "cell_type": "markdown",
   "id": "ade1abdc",
   "metadata": {},
   "source": [
    "# Rule out candidates with ALIGNN predicted band gap E_g < 0.1 eV (less likely to be a semiconductor) "
   ]
  },
  {
   "cell_type": "code",
   "execution_count": null,
   "id": "33d067a7",
   "metadata": {
    "scrolled": true
   },
   "outputs": [],
   "source": [
    "from invcryrep.utils import temporaryWorkingDirectory,splitRun_csv,show_progress,collect_csv_filter\n",
    "with temporaryWorkingDirectory(\"./HTS/8_band_gap_prescreen\"):\n",
    "    splitRun_csv(filename='../7_EAH_prescreen/results_7_EAH_prescreen_filtered.csv',threads=4,skip_header=True)\n",
    "    show_progress()\n",
    "    band_gap_lower_limit=0.1 # eV\n",
    "    collect_csv_filter(output=\"results_8_band_gap_prescreen.csv\", glob_target=\"job_*/result.csv\",\\\n",
    "                header='index,SLICES,POSCAR,formula,energy_per_atom,energy_per_atom_sym,space_group_number,dissimilarity,energy_above_hull_prescreen,band_gap_prescreen\\n', \\\n",
    "                condition=lambda i: float(i.split(',')[-1]) > band_gap_lower_limit,cleanup=True)"
   ]
  }
 ],
 "metadata": {
  "kernelspec": {
   "display_name": "Python 3 (ipykernel)",
   "language": "python",
   "name": "python3"
  },
  "language_info": {
   "codemirror_mode": {
    "name": "ipython",
    "version": 3
   },
   "file_extension": ".py",
   "mimetype": "text/x-python",
   "name": "python",
   "nbconvert_exporter": "python",
   "pygments_lexer": "ipython3",
   "version": "3.9.12"
  },
  "toc": {
   "base_numbering": 1,
   "nav_menu": {},
   "number_sections": true,
   "sideBar": true,
   "skip_h1_title": false,
   "title_cell": "Table of Contents",
   "title_sidebar": "Contents",
   "toc_cell": false,
   "toc_position": {},
   "toc_section_display": true,
   "toc_window_display": false
  },
  "widgets": {
   "application/vnd.jupyter.widget-state+json": {
    "state": {},
    "version_major": 2,
    "version_minor": 0
   }
  }
 },
 "nbformat": 4,
 "nbformat_minor": 5
}
