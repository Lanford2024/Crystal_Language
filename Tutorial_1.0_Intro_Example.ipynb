{
 "cells": [
  {
   "cell_type": "markdown",
   "id": "582b3e45",
   "metadata": {},
   "source": [
    "# Crystal to SLICES and SLICES to crystal\n",
    "**!!! First run the Jupyter backend setup** \n",
    "\n",
    "https://github.com/xiaohang007/SLICES?tab=readme-ov-file#jupyter-backend-setup"
   ]
  },
  {
   "cell_type": "code",
   "execution_count": 1,
   "id": "e0b72c84",
   "metadata": {
    "code_folding": [],
    "scrolled": true
   },
   "outputs": [
    {
     "name": "stdout",
     "output_type": "stream",
     "text": [
      "WARNING:tensorflow:From /opt/conda/envs/chgnet/lib/python3.9/site-packages/tensorflow/python/util/deprecation.py:588: calling function (from tensorflow.python.eager.polymorphic_function.polymorphic_function) with experimental_relax_shapes is deprecated and will be removed in a future version.\n",
      "Instructions for updating:\n",
      "experimental_relax_shapes is deprecated, use reduce_retracing instead\n",
      "SLICES string of NdSiRu is:  Nd Nd Si Si Ru Ru 0 3 -oo 0 3 o+o 0 3 ooo 0 3 -+o 0 2 ooo 1 2 +-o 1 2 ooo 1 2 o-o 1 2 +oo 1 3 ooo 2 4 oo+ 2 4 o++ 2 5 oo+ 2 5 -o+ 3 5 ooo 3 5 o-o 3 4 +oo 3 4 ooo \n",
      "\n",
      "Original_structure is:  Full Formula (Nd2 Si2 Ru2)\n",
      "Reduced Formula: NdSiRu\n",
      "abc   :   4.221947   4.221947   6.939786\n",
      "angles:  90.000000  90.000000  90.000000\n",
      "pbc   :       True       True       True\n",
      "Sites (6)\n",
      "  #  SP      a    b         c\n",
      "---  ----  ---  ---  --------\n",
      "  0  Nd2+  0    0.5  0.318491\n",
      "  1  Nd2+  0.5  0    0.681509\n",
      "  2  Si4-  0    0.5  0.828332\n",
      "  3  Si4-  0.5  0    0.171668\n",
      "  4  Ru2+  0    0    0\n",
      "  5  Ru2+  0.5  0.5  0\n",
      "\n",
      "Reconstructed_structure is:  Full Formula (Nd2 Si2 Ru2)\n",
      "Reduced Formula: NdSiRu\n",
      "abc   :   4.224344   4.224336   7.042228\n",
      "angles:  89.987780  89.991449  89.999930\n",
      "pbc   :       True       True       True\n",
      "Sites (6)\n",
      "  #  SP            a          b          c      magmom\n",
      "---  ----  ---------  ---------  ---------  ----------\n",
      "  0  Nd    -6e-05      0.000151  -0.022337  0.00978819\n",
      "  1  Nd     0.500176   0.500411   0.330827  0.00978893\n",
      "  2  Si     0.000145   0.000385   0.486228  0.0182922\n",
      "  3  Si    -0.500028  -0.499831  -0.177776  0.0182943\n",
      "  4  Ru     1.7e-05   -0.499703   0.654244  0.00429514\n",
      "  5  Ru    -0.499965   0.000308   0.654243  0.0042952\n",
      "\n",
      "final_energy_per_atom_IAP is:  -7.242894172668457  eV/atom\n"
     ]
    }
   ],
   "source": [
    "from slices.utils import temporaryWorkingDirectory\n",
    "from slices.core import SLICES\n",
    "from pymatgen.core.structure import Structure\n",
    "# Download entries to build general and transfer datasets\n",
    "with temporaryWorkingDirectory(\"./examples\"):\n",
    "    # obtaining the pymatgen Structure instance of NdSiRu\n",
    "    original_structure = Structure.from_file(filename='NdSiRu.cif')\n",
    "    # creating an instance of the InvCryRep Class (initialization)\n",
    "    backend=SLICES()\n",
    "    # converting a crystal structure to its SLICES string\n",
    "    slices_NdSiRu=backend.structure2SLICES(original_structure) \n",
    "    # converting a SLICES string back to its original crystal structure and obtaining its M3GNet_IAP-predicted energy_per_atom\n",
    "    reconstructed_structure,final_energy_per_atom_IAP = backend.SLICES2structure(slices_NdSiRu)\n",
    "    print('SLICES string of NdSiRu is: ',slices_NdSiRu)\n",
    "    print('\\nOriginal_structure is: ',original_structure)\n",
    "    print('\\nReconstructed_structure is: ',reconstructed_structure)\n",
    "    print('\\nfinal_energy_per_atom_IAP is: ',final_energy_per_atom_IAP,' eV/atom')\n",
    "    # if final_energy_per_atom_IAP is 0, it means the M3GNet_IAP refinement failed, and the reconstructed_structure is the ZL*-optimized structure."
   ]
  },
  {
   "cell_type": "markdown",
   "id": "221456e0",
   "metadata": {},
   "source": [
    "# Augment SLICES and canonicalize SLICES"
   ]
  },
  {
   "cell_type": "code",
   "execution_count": 8,
   "id": "691bef88",
   "metadata": {},
   "outputs": [
    {
     "name": "stdout",
     "output_type": "stream",
     "text": [
      "20 1\n"
     ]
    }
   ],
   "source": [
    "from slices.utils import temporaryWorkingDirectory\n",
    "from slices.core import SLICES\n",
    "from pymatgen.core.structure import Structure\n",
    "from pymatgen.analysis.structure_matcher import StructureMatcher, ElementComparator\n",
    "with temporaryWorkingDirectory(\"./examples\"):\n",
    "    # obtaining the pymatgen Structure instance of Sr3Ru2O7\n",
    "    original_structure = Structure.from_file(filename='Sr3Ru2O7.cif')\n",
    "    # creating an instance of the InvCryRep Class (initialization)\n",
    "    backend=SLICES()\n",
    "    # converting a crystal structure to its SLICES string and perform data augmentation (20x)\n",
    "    slices_list=backend.structure2SLICESAug_atom_order(structure=original_structure,num=20) \n",
    "    slices_list_unique=list(set(slices_list))\n",
    "    cannon_slices_list=[]\n",
    "    for i in slices_list_unique:\n",
    "        cannon_slices_list.append(backend.get_canonical_SLICES(i))\n",
    "    # test get_canonical_SLICES\n",
    "    print(len(slices_list),len(set(cannon_slices_list)))\n",
    "    # 20 SLICES generated by data augmentation has been reduced to 1 canonical SLICES"
   ]
  },
  {
   "cell_type": "code",
   "execution_count": null,
   "id": "cfcd28e9-26ea-4620-b2e6-5e6c4ef09475",
   "metadata": {},
   "outputs": [],
   "source": []
  }
 ],
 "metadata": {
  "kernelspec": {
   "display_name": "Python 3 (ipykernel)",
   "language": "python",
   "name": "python3"
  },
  "language_info": {
   "codemirror_mode": {
    "name": "ipython",
    "version": 3
   },
   "file_extension": ".py",
   "mimetype": "text/x-python",
   "name": "python",
   "nbconvert_exporter": "python",
   "pygments_lexer": "ipython3",
   "version": "3.9.19"
  },
  "toc": {
   "base_numbering": 1,
   "nav_menu": {},
   "number_sections": true,
   "sideBar": true,
   "skip_h1_title": false,
   "title_cell": "Table of Contents",
   "title_sidebar": "Contents",
   "toc_cell": false,
   "toc_position": {},
   "toc_section_display": true,
   "toc_window_display": false
  },
  "widgets": {
   "application/vnd.jupyter.widget-state+json": {
    "state": {},
    "version_major": 2,
    "version_minor": 0
   }
  }
 },
 "nbformat": 4,
 "nbformat_minor": 5
}
