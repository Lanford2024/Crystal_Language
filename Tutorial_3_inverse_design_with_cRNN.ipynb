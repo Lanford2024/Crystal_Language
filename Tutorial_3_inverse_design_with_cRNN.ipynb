{
 "cells": [
  {
   "cell_type": "markdown",
   "id": "582b3e45",
   "metadata": {},
   "source": [
    "## Build training sets\n",
    "**!!! First run the Jupyter backend setup** \n",
    "\n",
    "https://github.com/xiaohang007/SLICES?tab=readme-ov-file#jupyter-backend-setup"
   ]
  },
  {
   "cell_type": "code",
   "execution_count": null,
   "id": "e0b72c84",
   "metadata": {
    "code_folding": [],
    "scrolled": true
   },
   "outputs": [],
   "source": [
    "%matplotlib inline\n",
    "from invcryrep.utils import temporaryWorkingDirectory,search_materials,exclude_elements_json,splitRun,show_progress,collect_json,collect_csv\n",
    "import os\n",
    "# Download entries to build training sets\n",
    "with temporaryWorkingDirectory(\"./benchmark/Validity_rate_ucRNN__Success_rate_cRNN/0_get_json/0_get_mp20_json\"):\n",
    "    os.system(\"python 0_mp20.py\")\n",
    "# Rule out unsupported elements\n",
    "with temporaryWorkingDirectory(\"./benchmark/Validity_rate_ucRNN__Success_rate_cRNN/0_get_json/1_element_filter\"):\n",
    "    splitRun(filename='../0_get_mp20_json/cifs.json',threads=16,skip_header=False)\n",
    "    show_progress()\n",
    "    collect_json(output=\"cifs_filtered.json\", glob_target=\"./**/output.json\",cleanup=True)\n",
    "# Convert to primitive cell\n",
    "with temporaryWorkingDirectory(\"./benchmark/Validity_rate_ucRNN__Success_rate_cRNN/0_get_json/2_primitive_cell_conversion\"):\n",
    "    splitRun(filename='../1_element_filter/cifs_filtered.json',threads=16,skip_header=False)\n",
    "    show_progress()\n",
    "    collect_json(output=\"cifs_filtered.json\", glob_target=\"./**/output.json\",cleanup=True)\n",
    "# Rule out crystals with low-dimensional units (e.g. molecular crystals or layered crystals)\n",
    "with temporaryWorkingDirectory(\"./benchmark/Validity_rate_ucRNN__Success_rate_cRNN/0_get_json/3_3d_filter\"):\n",
    "    splitRun(filename='../2_primitive_cell_conversion/cifs_filtered.json',threads=16,skip_header=False)\n",
    "    show_progress()\n",
    "    collect_json(output=\"../cifs_filtered.json\", glob_target=\"./**/output.json\",cleanup=True)"
   ]
  },
  {
   "cell_type": "markdown",
   "id": "221456e0",
   "metadata": {},
   "source": [
    "# Convert crystal structures in datasets to SLICES strings and conduct data augmentation\n",
    "**Set 'augment': 5 to speed up the test run.**\n",
    "\n",
    "**Set 'augment': 50 to reproduce the results reported in the manuscript**"
   ]
  },
  {
   "cell_type": "code",
   "execution_count": null,
   "id": "691bef88",
   "metadata": {},
   "outputs": [],
   "source": [
    "from invcryrep.utils import temporaryWorkingDirectory,splitRun,show_progress,collect_json,collect_csv\n",
    "import configparser\n",
    "with temporaryWorkingDirectory(\"./benchmark/Validity_rate_ucRNN__Success_rate_cRNN/2_conditioned_RNN/1_augmentation\"):\n",
    "    config = configparser.ConfigParser()\n",
    "    config[\"Settings\"] = {'augment': 5, 'graph_method':'econnn' }\n",
    "    with open('./workflow/settings.ini', 'w') as configfile:\n",
    "        config.write(configfile)\n",
    "    splitRun(filename='../../0_get_json/cifs_filtered.json',threads=16,skip_header=False)\n",
    "    show_progress()\n",
    "    collect_csv(output=\"./prior_aug.sli\", glob_target=\"./**/result.sli\",header=\"\",cleanup=True)"
   ]
  },
  {
   "cell_type": "markdown",
   "id": "1d8997fc",
   "metadata": {},
   "source": [
    "# Train_sample\n",
    "## Train conditional RNN\n",
    "**Set --epochs 1 to speed up the test run.**\n",
    "\n",
    "**To accelerate the training process, consider adjusting the batch_size appropriately.**\n",
    "\n",
    "**e.g., --batch_size 60 for 4GB GPU memory, --batch_size 360 for 24GB GPU memory**\n",
    "\n",
    "**Set --epochs 10 to reproduce the results reported in the manuscript**"
   ]
  },
  {
   "cell_type": "code",
   "execution_count": null,
   "id": "38b5295e",
   "metadata": {
    "scrolled": true
   },
   "outputs": [],
   "source": [
    "from invcryrep.utils import temporaryWorkingDirectory\n",
    "import os\n",
    "with temporaryWorkingDirectory(\"./benchmark/Validity_rate_ucRNN__Success_rate_cRNN/2_conditioned_RNN/2_train_sample\"):\n",
    "    os.system(\"python data_structs.py ../1_augmentation/prior_aug.sli\")\n",
    "    os.system(\"python train_prior.py --batch_size 60 --epochs 1\")"
   ]
  },
  {
   "cell_type": "markdown",
   "id": "67ff1c75",
   "metadata": {},
   "source": [
    "## Sample 1000 SLICES strings with specified $E_{form}$ = -4.5 eV/atom\n",
    "**Set {'target': -4.5 } as the specified $E_{form}$**"
   ]
  },
  {
   "cell_type": "code",
   "execution_count": null,
   "id": "44c5226a",
   "metadata": {
    "scrolled": true
   },
   "outputs": [],
   "source": [
    "from invcryrep.utils import temporaryWorkingDirectory,splitRun_sample,show_progress,collect_csv\n",
    "import configparser\n",
    "with temporaryWorkingDirectory(\"./benchmark/Validity_rate_ucRNN__Success_rate_cRNN/2_conditioned_RNN/2_train_sample\"):\n",
    "    config = configparser.ConfigParser()\n",
    "    config[\"Settings\"] = {'target': -4.5 }\n",
    "    with open('./workflow/settings2.ini', 'w') as configfile:\n",
    "        config.write(configfile)\n",
    "    splitRun_sample(threads=10,sample_size=1000) # generate 16000 SLICES in total with 8 CPU threads \n",
    "    show_progress()\n",
    "    collect_csv(output=\"sampled.sli\", glob_target=\"job_*/100x.sli\",header=\"\",cleanup=False)"
   ]
  },
  {
   "cell_type": "markdown",
   "id": "e730a8ee",
   "metadata": {},
   "source": [
    "# Reconstruct crystal structures from SLICES strings (duplicate edges fixed) and calculate the number of reconstructed crystals (num_reconstructed) "
   ]
  },
  {
   "cell_type": "code",
   "execution_count": null,
   "id": "89d9fd23",
   "metadata": {
    "scrolled": true
   },
   "outputs": [],
   "source": [
    "from invcryrep.utils import temporaryWorkingDirectory,splitRun_csv,show_progress,collect_csv\n",
    "with temporaryWorkingDirectory(\"./benchmark/Validity_rate_ucRNN__Success_rate_cRNN/2_conditioned_RNN/3_inverse\"):\n",
    "    splitRun_csv(filename='../2_train_sample/sampled.sli',threads=16,skip_header=False)\n",
    "    show_progress()\n",
    "    collect_csv(output=\"results_3_inverse.csv\", glob_target=\"job_*/result.csv\",\\\n",
    "                header='SLICES,formula,energy_per_atom,POSCAR\\n',cleanup=True)"
   ]
  },
  {
   "cell_type": "markdown",
   "id": "476d9460",
   "metadata": {},
   "source": [
    "# Evaluate the formation energy distribution of the reconstructed crystals with the M3GNet model"
   ]
  },
  {
   "cell_type": "code",
   "execution_count": 4,
   "id": "26539915",
   "metadata": {},
   "outputs": [
    {
     "name": "stdout",
     "output_type": "stream",
     "text": [
      "Computational tasks have been submitted.\n"
     ]
    },
    {
     "name": "stderr",
     "output_type": "stream",
     "text": [
      "     100%|███████████████| 100/100 [00:06<00:00, 15.11it/s] \n"
     ]
    },
    {
     "name": "stdout",
     "output_type": "stream",
     "text": [
      "Results have been collected into: results_4_eform_m3gnet.csv\n"
     ]
    },
    {
     "data": {
      "image/png": "[encoded data removed]",
      "text/plain": [
       "<Figure size 640x480 with 1 Axes>"
      ]
     },
     "metadata": {},
     "output_type": "display_data"
    }
   ],
   "source": [
    "from invcryrep.utils import temporaryWorkingDirectory,splitRun_csv,show_progress,collect_csv,os\n",
    "import numpy as np\n",
    "import matplotlib.pyplot as plt\n",
    "from matplotlib.colors import LinearSegmentedColormap\n",
    "with temporaryWorkingDirectory(\"./benchmark/Validity_rate_ucRNN__Success_rate_cRNN/2_conditioned_RNN/4_eform_m3gnet\"):\n",
    "    splitRun_csv(filename='../3_inverse/results_3_inverse.csv',threads=16,skip_header=True)\n",
    "    show_progress()\n",
    "    collect_csv(output=\"results_4_eform_m3gnet.csv\", glob_target=\"job_*/result.csv\",\\\n",
    "                header='index,SCILES,POSCAR,formula,energy_per_atom,eform\\n',index=True,cleanup=True)\n",
    "    # plot the formation energy distribution (PBE) of the reconstructed crystals \n",
    "    #os.system(\"python 3_normal_distri_plot.py\")\n",
    "    plt.rcParams.update({'font.size': 15}) \n",
    "    with open(\"results_4_eform_m3gnet.csv\") as f:\n",
    "        data = [float(line.strip().split(',')[-1]) for line in f if line.strip().split(',')[-1]!=\"eform\" ]\n",
    "    props, bins, patches = plt.hist(data, bins=50, density=True, \n",
    "                                     edgecolor='black', facecolor='pink',linewidth=0.2, alpha=0.5)\n",
    "    outputs = [[str(a), str(b)] for a, b in zip(bins[:-1],props)]\n",
    "    with open('formation_energy.txt','w') as f:\n",
    "        for op in outputs:\n",
    "            f.write('\\t'.join(op))\n",
    "            f.write('\\n')\n",
    "    mean = np.mean(data)\n",
    "    std = np.std(data)\n",
    "    x = np.linspace(mean - 5*std, mean + 5*std, 200)\n",
    "    y = np.exp(-((x - mean)**2)/(2*std**2)) / (std * np.sqrt(2*np.pi))\n",
    "    plt.plot(x, y, linewidth=0.2,linestyle='--',c='b')\n",
    "    with open('normalized_distribution.txt','w') as f:\n",
    "        for op in zip(x, y):\n",
    "            f.write('\\t'.join([str(num) for num in op]))\n",
    "            f.write('\\n')\n",
    "    plt.xlim(-5,0)\n",
    "    plt.locator_params(axis='x', nbins=5) \n",
    "    plt.locator_params(axis='y', nbins=5)     \n",
    "    plt.xlabel('Formation energy per atom (eV)')\n",
    "    plt.ylabel('%Materials')  \n",
    "    plt.savefig('plot.png') \n",
    "    plt.show()\n",
    "    os.system(\"rm formation_energy.txt normalized_distribution.txt  \")"
   ]
  },
  {
   "cell_type": "markdown",
   "id": "3408073a",
   "metadata": {},
   "source": [
    "# Evaluate the formation energy distribution of the reconstructed crystals at PBE level (took less than 1 day to finish with 36*26 cores HPC; need to tweak the ./workflow/0_EnthalpyOfFormation\\*.py to deal with some tricky cases of VASP cell optimization)\n",
    "```bash\n",
    "cd /crystal/benchmark/Validity_rate_ucRNN__Success_rate_cRNN/2_conditioned_RNN/5_eform_PBE\n",
    "python 1_splitRun.py\n",
    "#After running python 1_splitRun.py, the computation is only submitted to the queue, \n",
    "# not completed. To monitor the progress of the computation, use the qstat command. \n",
    "#If all tasks are marked with a status of \"C\", it indicates that the computation has finished.\n",
    "python 2_collect_clean_glob_details.py\n",
    "#After the computation are finished, running python 2_collect_clean_glob_details.py to get results.\n",
    "python 3_normal_distri_plot.py # plot the formation energy distribution (PBE) of the reconstructed crystals \n",
    "```\n",
    "# **Reproduction of Table 3:**  Calculate SR5, SR10, SR15 in Table S1 using formation energies (at PBE level) of crystals generated with a target of -4.5 eV/atom\n",
    "```bash\n",
    "cd /crystal/benchmark/Validity_rate_ucRNN__Success_rate_cRNN/2_conditioned_RNN/6_calculate_FigureS2c\n",
    "python calculate_SR5-10-15_TableS1.py # SR5, SR10, SR15 are printed in the terminal\n",
    "```\n",
    "\n",
    "# **Reproduction of Fig. S2c:** Repeat step (3-6) with $E_{form}$ target = -3.0, -4.0, -5.0, -6.0 eV/atom. Extract formation energy distributions from \"results_5_eform_m3gnet.csv\" in step (6) and transfer the data to \"/crystal/benchmark/Validity_rate_ucRNN__Success_rate_cRNN/2_conditioned_RNN/6_calculate_FigureS2c/energy_formation_m3gnet_lists.csv\". Then:\n",
    "```bash\n",
    "cd /crystal/benchmark/Validity_rate_ucRNN__Success_rate_cRNN/2_conditioned_RNN/6_calculate_FigureS2c\n",
    "python plot_FigureS1c.py # get Fig. S2c as test3.svg\n",
    "```\n",
    "The formation energy distributions with $E_{form}$ target = -3.0, -4.0, -5.0, -6.0 eV/atom can be accessed from \"/crystal/benchmark/Validity_rate_ucRNN__Success_rate_cRNN/2_conditioned_RNN/Other_targets/3_eform_\\*\"."
   ]
  },
  {
   "cell_type": "code",
   "execution_count": null,
   "id": "f6776e8c-4afc-4201-b47c-be6a7ae08d42",
   "metadata": {},
   "outputs": [],
   "source": []
  }
 ],
 "metadata": {
  "kernelspec": {
   "display_name": "Python 3 (ipykernel)",
   "language": "python",
   "name": "python3"
  },
  "language_info": {
   "codemirror_mode": {
    "name": "ipython",
    "version": 3
   },
   "file_extension": ".py",
   "mimetype": "text/x-python",
   "name": "python",
   "nbconvert_exporter": "python",
   "pygments_lexer": "ipython3",
   "version": "3.9.12"
  },
  "toc": {
   "base_numbering": 1,
   "nav_menu": {},
   "number_sections": true,
   "sideBar": true,
   "skip_h1_title": false,
   "title_cell": "Table of Contents",
   "title_sidebar": "Contents",
   "toc_cell": false,
   "toc_position": {},
   "toc_section_display": true,
   "toc_window_display": false
  },
  "widgets": {
   "application/vnd.jupyter.widget-state+json": {
    "state": {},
    "version_major": 2,
    "version_minor": 0
   }
  }
 },
 "nbformat": 4,
 "nbformat_minor": 5
}
